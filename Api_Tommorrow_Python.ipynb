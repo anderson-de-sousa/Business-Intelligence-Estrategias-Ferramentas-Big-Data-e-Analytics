{
  "nbformat": 4,
  "nbformat_minor": 0,
  "metadata": {
    "colab": {
      "provenance": [],
      "authorship_tag": "ABX9TyOm+JCRAJwT6I3MJjFBoQTv",
      "include_colab_link": true
    },
    "kernelspec": {
      "name": "python3",
      "display_name": "Python 3"
    },
    "language_info": {
      "name": "python"
    }
  },
  "cells": [
    {
      "cell_type": "markdown",
      "metadata": {
        "id": "view-in-github",
        "colab_type": "text"
      },
      "source": [
        "<a href=\"https://colab.research.google.com/github/anderson-de-sousa/Business-Intelligence-Estrategias-Ferramentas-Big-Data-e-Analytics/blob/master/Api_Tommorrow_Python.ipynb\" target=\"_parent\"><img src=\"https://colab.research.google.com/assets/colab-badge.svg\" alt=\"Open In Colab\"/></a>"
      ]
    },
    {
      "cell_type": "code",
      "execution_count": 2,
      "metadata": {
        "id": "ti_L1FWZT6qL"
      },
      "outputs": [],
      "source": [
        "import json\n",
        "import requests"
      ]
    },
    {
      "cell_type": "code",
      "source": [
        "latitude = 51.509865;\n",
        "longitude = -0.118092;\n",
        "TOMORROW_API_KEY = '7TKcc8uv6LNUhPXCwRZuoAkENYMPtlIz';\n",
        "url = f\"https://api.tomorrow.io/v4/weather/realtime?location={latitude},{longitude}&apikey={TOMORROW_API_KEY}\";"
      ],
      "metadata": {
        "id": "oCE7KjvWUBfm"
      },
      "execution_count": 5,
      "outputs": []
    },
    {
      "cell_type": "code",
      "source": [
        "headers = {\"accept\": \"application/json\"}\n",
        "response = requests.get(url, headers=headers)\n",
        "\n",
        "if response.status_code == 200:\n",
        "    data = response.json()\n",
        "    print(json.dumps(data, indent=4))\n",
        "else:\n",
        "    print(f'Erro na requisição: {response.status_code}, mensagem: {response.json().get(\"message\", \"\")}')"
      ],
      "metadata": {
        "colab": {
          "base_uri": "https://localhost:8080/"
        },
        "id": "G0SMk53dU9GN",
        "outputId": "4965ad3b-7564-4503-f733-d35283214744"
      },
      "execution_count": 6,
      "outputs": [
        {
          "output_type": "stream",
          "name": "stdout",
          "text": [
            "{\n",
            "    \"data\": {\n",
            "        \"time\": \"2025-07-08T00:04:00Z\",\n",
            "        \"values\": {\n",
            "            \"altimeterSetting\": 1014.13,\n",
            "            \"cloudBase\": 1.4,\n",
            "            \"cloudCeiling\": 1.7,\n",
            "            \"cloudCover\": 63,\n",
            "            \"dewPoint\": 9.1,\n",
            "            \"freezingRainIntensity\": 0,\n",
            "            \"humidity\": 63,\n",
            "            \"precipitationProbability\": 0,\n",
            "            \"pressureSeaLevel\": 1014.36,\n",
            "            \"pressureSurfaceLevel\": 1011.45,\n",
            "            \"rainIntensity\": 0,\n",
            "            \"sleetIntensity\": 0,\n",
            "            \"snowIntensity\": 0,\n",
            "            \"temperature\": 16.2,\n",
            "            \"temperatureApparent\": 16.2,\n",
            "            \"uvHealthConcern\": 0,\n",
            "            \"uvIndex\": 0,\n",
            "            \"visibility\": 16,\n",
            "            \"weatherCode\": 1102,\n",
            "            \"windDirection\": 289,\n",
            "            \"windGust\": 2.7,\n",
            "            \"windSpeed\": 1.2\n",
            "        }\n",
            "    },\n",
            "    \"location\": {\n",
            "        \"lat\": 51.509865,\n",
            "        \"lon\": -0.118092\n",
            "    }\n",
            "}\n"
          ]
        }
      ]
    },
    {
      "cell_type": "code",
      "source": [],
      "metadata": {
        "id": "RaUUveW6WAjo"
      },
      "execution_count": null,
      "outputs": []
    }
  ]
}